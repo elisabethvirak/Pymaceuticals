{
 "cells": [
  {
   "cell_type": "markdown",
   "metadata": {},
   "source": [
    "## Observations and Insights"
   ]
  },
  {
   "cell_type": "markdown",
   "metadata": {},
   "source": [
    "There were an equal amount of female and male mice tested, so the results may mean these drugs were tested equally on either gender. However, further analysis would be required to see if that is entirely accurate.\n",
    "\n",
    "The two top performers were undoubtedly Capomulin and Ramicane. Although Capomulin seemed to be the number one performer overall, Ramicane had slightly lower values across the board regarding the average and median tumor volumes, variance, standard deviation, and standard error.\n",
    "\n",
    "According to the scatter plot showing average tumor volume and mouse weight, there seems to be a fairly direct, positive correlation between the weight of the mouse and the volume of the tumor."
   ]
  },
  {
   "cell_type": "markdown",
   "metadata": {},
   "source": [
    "## Dependencies and starter code"
   ]
  },
  {
   "cell_type": "code",
   "execution_count": 1,
   "metadata": {},
   "outputs": [],
   "source": [
    "# Dependencies and Setup\n",
    "import matplotlib.pyplot as plt\n",
    "import pandas as pd\n",
    "import scipy.stats as st\n",
    "from scipy.stats import linregress\n",
    "import numpy as np\n",
    "\n",
    "# Study data files\n",
    "mouse_metadata = \"data/Mouse_metadata.csv\"\n",
    "study_results = \"data/Study_results.csv\"\n",
    "\n",
    "# Read the mouse data and the study results\n",
    "mouse_metadata = pd.read_csv(mouse_metadata)\n",
    "study_results = pd.read_csv(study_results)"
   ]
  },
  {
   "cell_type": "code",
   "execution_count": 2,
   "metadata": {},
   "outputs": [
    {
     "data": {
      "text/html": [
       "<div>\n",
       "<style scoped>\n",
       "    .dataframe tbody tr th:only-of-type {\n",
       "        vertical-align: middle;\n",
       "    }\n",
       "\n",
       "    .dataframe tbody tr th {\n",
       "        vertical-align: top;\n",
       "    }\n",
       "\n",
       "    .dataframe thead th {\n",
       "        text-align: right;\n",
       "    }\n",
       "</style>\n",
       "<table border=\"1\" class=\"dataframe\">\n",
       "  <thead>\n",
       "    <tr style=\"text-align: right;\">\n",
       "      <th></th>\n",
       "      <th>Mouse ID</th>\n",
       "      <th>Drug Regimen</th>\n",
       "      <th>Sex</th>\n",
       "      <th>Age_months</th>\n",
       "      <th>Weight (g)</th>\n",
       "    </tr>\n",
       "  </thead>\n",
       "  <tbody>\n",
       "    <tr>\n",
       "      <th>0</th>\n",
       "      <td>k403</td>\n",
       "      <td>Ramicane</td>\n",
       "      <td>Male</td>\n",
       "      <td>21</td>\n",
       "      <td>16</td>\n",
       "    </tr>\n",
       "    <tr>\n",
       "      <th>1</th>\n",
       "      <td>s185</td>\n",
       "      <td>Capomulin</td>\n",
       "      <td>Female</td>\n",
       "      <td>3</td>\n",
       "      <td>17</td>\n",
       "    </tr>\n",
       "    <tr>\n",
       "      <th>2</th>\n",
       "      <td>x401</td>\n",
       "      <td>Capomulin</td>\n",
       "      <td>Female</td>\n",
       "      <td>16</td>\n",
       "      <td>15</td>\n",
       "    </tr>\n",
       "    <tr>\n",
       "      <th>3</th>\n",
       "      <td>m601</td>\n",
       "      <td>Capomulin</td>\n",
       "      <td>Male</td>\n",
       "      <td>22</td>\n",
       "      <td>17</td>\n",
       "    </tr>\n",
       "    <tr>\n",
       "      <th>4</th>\n",
       "      <td>g791</td>\n",
       "      <td>Ramicane</td>\n",
       "      <td>Male</td>\n",
       "      <td>11</td>\n",
       "      <td>16</td>\n",
       "    </tr>\n",
       "  </tbody>\n",
       "</table>\n",
       "</div>"
      ],
      "text/plain": [
       "  Mouse ID Drug Regimen     Sex  Age_months  Weight (g)\n",
       "0     k403     Ramicane    Male          21          16\n",
       "1     s185    Capomulin  Female           3          17\n",
       "2     x401    Capomulin  Female          16          15\n",
       "3     m601    Capomulin    Male          22          17\n",
       "4     g791     Ramicane    Male          11          16"
      ]
     },
     "execution_count": 2,
     "metadata": {},
     "output_type": "execute_result"
    }
   ],
   "source": [
    "mouse_metadata.head()"
   ]
  },
  {
   "cell_type": "code",
   "execution_count": 3,
   "metadata": {},
   "outputs": [
    {
     "data": {
      "text/html": [
       "<div>\n",
       "<style scoped>\n",
       "    .dataframe tbody tr th:only-of-type {\n",
       "        vertical-align: middle;\n",
       "    }\n",
       "\n",
       "    .dataframe tbody tr th {\n",
       "        vertical-align: top;\n",
       "    }\n",
       "\n",
       "    .dataframe thead th {\n",
       "        text-align: right;\n",
       "    }\n",
       "</style>\n",
       "<table border=\"1\" class=\"dataframe\">\n",
       "  <thead>\n",
       "    <tr style=\"text-align: right;\">\n",
       "      <th></th>\n",
       "      <th>Mouse ID</th>\n",
       "      <th>Timepoint</th>\n",
       "      <th>Tumor Volume (mm3)</th>\n",
       "      <th>Metastatic Sites</th>\n",
       "    </tr>\n",
       "  </thead>\n",
       "  <tbody>\n",
       "    <tr>\n",
       "      <th>0</th>\n",
       "      <td>b128</td>\n",
       "      <td>0</td>\n",
       "      <td>45.0</td>\n",
       "      <td>0</td>\n",
       "    </tr>\n",
       "    <tr>\n",
       "      <th>1</th>\n",
       "      <td>f932</td>\n",
       "      <td>0</td>\n",
       "      <td>45.0</td>\n",
       "      <td>0</td>\n",
       "    </tr>\n",
       "    <tr>\n",
       "      <th>2</th>\n",
       "      <td>g107</td>\n",
       "      <td>0</td>\n",
       "      <td>45.0</td>\n",
       "      <td>0</td>\n",
       "    </tr>\n",
       "    <tr>\n",
       "      <th>3</th>\n",
       "      <td>a457</td>\n",
       "      <td>0</td>\n",
       "      <td>45.0</td>\n",
       "      <td>0</td>\n",
       "    </tr>\n",
       "    <tr>\n",
       "      <th>4</th>\n",
       "      <td>c819</td>\n",
       "      <td>0</td>\n",
       "      <td>45.0</td>\n",
       "      <td>0</td>\n",
       "    </tr>\n",
       "  </tbody>\n",
       "</table>\n",
       "</div>"
      ],
      "text/plain": [
       "  Mouse ID  Timepoint  Tumor Volume (mm3)  Metastatic Sites\n",
       "0     b128          0                45.0                 0\n",
       "1     f932          0                45.0                 0\n",
       "2     g107          0                45.0                 0\n",
       "3     a457          0                45.0                 0\n",
       "4     c819          0                45.0                 0"
      ]
     },
     "execution_count": 3,
     "metadata": {},
     "output_type": "execute_result"
    }
   ],
   "source": [
    "study_results.head()"
   ]
  },
  {
   "cell_type": "code",
   "execution_count": 4,
   "metadata": {},
   "outputs": [
    {
     "data": {
      "text/html": [
       "<div>\n",
       "<style scoped>\n",
       "    .dataframe tbody tr th:only-of-type {\n",
       "        vertical-align: middle;\n",
       "    }\n",
       "\n",
       "    .dataframe tbody tr th {\n",
       "        vertical-align: top;\n",
       "    }\n",
       "\n",
       "    .dataframe thead th {\n",
       "        text-align: right;\n",
       "    }\n",
       "</style>\n",
       "<table border=\"1\" class=\"dataframe\">\n",
       "  <thead>\n",
       "    <tr style=\"text-align: right;\">\n",
       "      <th></th>\n",
       "      <th>Mouse ID</th>\n",
       "      <th>Drug Regimen</th>\n",
       "      <th>Sex</th>\n",
       "      <th>Age_months</th>\n",
       "      <th>Weight (g)</th>\n",
       "      <th>Timepoint</th>\n",
       "      <th>Tumor Volume (mm3)</th>\n",
       "      <th>Metastatic Sites</th>\n",
       "    </tr>\n",
       "  </thead>\n",
       "  <tbody>\n",
       "    <tr>\n",
       "      <th>0</th>\n",
       "      <td>k403</td>\n",
       "      <td>Ramicane</td>\n",
       "      <td>Male</td>\n",
       "      <td>21</td>\n",
       "      <td>16</td>\n",
       "      <td>0</td>\n",
       "      <td>45.000000</td>\n",
       "      <td>0</td>\n",
       "    </tr>\n",
       "    <tr>\n",
       "      <th>1</th>\n",
       "      <td>k403</td>\n",
       "      <td>Ramicane</td>\n",
       "      <td>Male</td>\n",
       "      <td>21</td>\n",
       "      <td>16</td>\n",
       "      <td>5</td>\n",
       "      <td>38.825898</td>\n",
       "      <td>0</td>\n",
       "    </tr>\n",
       "    <tr>\n",
       "      <th>2</th>\n",
       "      <td>k403</td>\n",
       "      <td>Ramicane</td>\n",
       "      <td>Male</td>\n",
       "      <td>21</td>\n",
       "      <td>16</td>\n",
       "      <td>10</td>\n",
       "      <td>35.014271</td>\n",
       "      <td>1</td>\n",
       "    </tr>\n",
       "    <tr>\n",
       "      <th>3</th>\n",
       "      <td>k403</td>\n",
       "      <td>Ramicane</td>\n",
       "      <td>Male</td>\n",
       "      <td>21</td>\n",
       "      <td>16</td>\n",
       "      <td>15</td>\n",
       "      <td>34.223992</td>\n",
       "      <td>1</td>\n",
       "    </tr>\n",
       "    <tr>\n",
       "      <th>4</th>\n",
       "      <td>k403</td>\n",
       "      <td>Ramicane</td>\n",
       "      <td>Male</td>\n",
       "      <td>21</td>\n",
       "      <td>16</td>\n",
       "      <td>20</td>\n",
       "      <td>32.997729</td>\n",
       "      <td>1</td>\n",
       "    </tr>\n",
       "  </tbody>\n",
       "</table>\n",
       "</div>"
      ],
      "text/plain": [
       "  Mouse ID Drug Regimen   Sex  Age_months  Weight (g)  Timepoint  \\\n",
       "0     k403     Ramicane  Male          21          16          0   \n",
       "1     k403     Ramicane  Male          21          16          5   \n",
       "2     k403     Ramicane  Male          21          16         10   \n",
       "3     k403     Ramicane  Male          21          16         15   \n",
       "4     k403     Ramicane  Male          21          16         20   \n",
       "\n",
       "   Tumor Volume (mm3)  Metastatic Sites  \n",
       "0           45.000000                 0  \n",
       "1           38.825898                 0  \n",
       "2           35.014271                 1  \n",
       "3           34.223992                 1  \n",
       "4           32.997729                 1  "
      ]
     },
     "execution_count": 4,
     "metadata": {},
     "output_type": "execute_result"
    }
   ],
   "source": [
    "# Combine the data into a single dataset\n",
    "mouse_study_df = pd.merge(mouse_metadata, study_results, on=\"Mouse ID\", how=\"outer\")\n",
    "mouse_study_df.head()"
   ]
  },
  {
   "cell_type": "code",
   "execution_count": 5,
   "metadata": {},
   "outputs": [
    {
     "data": {
      "text/html": [
       "<div>\n",
       "<style scoped>\n",
       "    .dataframe tbody tr th:only-of-type {\n",
       "        vertical-align: middle;\n",
       "    }\n",
       "\n",
       "    .dataframe tbody tr th {\n",
       "        vertical-align: top;\n",
       "    }\n",
       "\n",
       "    .dataframe thead th {\n",
       "        text-align: right;\n",
       "    }\n",
       "</style>\n",
       "<table border=\"1\" class=\"dataframe\">\n",
       "  <thead>\n",
       "    <tr style=\"text-align: right;\">\n",
       "      <th></th>\n",
       "      <th>Drug Regimen</th>\n",
       "      <th>Timepoint</th>\n",
       "      <th>Tumor Volume (mm3)</th>\n",
       "    </tr>\n",
       "  </thead>\n",
       "  <tbody>\n",
       "    <tr>\n",
       "      <th>0</th>\n",
       "      <td>Ramicane</td>\n",
       "      <td>0</td>\n",
       "      <td>45.000000</td>\n",
       "    </tr>\n",
       "    <tr>\n",
       "      <th>1</th>\n",
       "      <td>Ramicane</td>\n",
       "      <td>5</td>\n",
       "      <td>38.825898</td>\n",
       "    </tr>\n",
       "    <tr>\n",
       "      <th>2</th>\n",
       "      <td>Ramicane</td>\n",
       "      <td>10</td>\n",
       "      <td>35.014271</td>\n",
       "    </tr>\n",
       "    <tr>\n",
       "      <th>3</th>\n",
       "      <td>Ramicane</td>\n",
       "      <td>15</td>\n",
       "      <td>34.223992</td>\n",
       "    </tr>\n",
       "    <tr>\n",
       "      <th>4</th>\n",
       "      <td>Ramicane</td>\n",
       "      <td>20</td>\n",
       "      <td>32.997729</td>\n",
       "    </tr>\n",
       "  </tbody>\n",
       "</table>\n",
       "</div>"
      ],
      "text/plain": [
       "  Drug Regimen  Timepoint  Tumor Volume (mm3)\n",
       "0     Ramicane          0           45.000000\n",
       "1     Ramicane          5           38.825898\n",
       "2     Ramicane         10           35.014271\n",
       "3     Ramicane         15           34.223992\n",
       "4     Ramicane         20           32.997729"
      ]
     },
     "execution_count": 5,
     "metadata": {},
     "output_type": "execute_result"
    }
   ],
   "source": [
    "# focus on data we are interested in\n",
    "drug_results = mouse_study_df.loc[:,[\"Drug Regimen\", \"Timepoint\", \"Tumor Volume (mm3)\"]]\n",
    "drug_results.head()"
   ]
  },
  {
   "cell_type": "markdown",
   "metadata": {},
   "source": [
    "## Summary statistics"
   ]
  },
  {
   "cell_type": "code",
   "execution_count": 6,
   "metadata": {},
   "outputs": [
    {
     "data": {
      "text/html": [
       "<div>\n",
       "<style scoped>\n",
       "    .dataframe tbody tr th:only-of-type {\n",
       "        vertical-align: middle;\n",
       "    }\n",
       "\n",
       "    .dataframe tbody tr th {\n",
       "        vertical-align: top;\n",
       "    }\n",
       "\n",
       "    .dataframe thead th {\n",
       "        text-align: right;\n",
       "    }\n",
       "</style>\n",
       "<table border=\"1\" class=\"dataframe\">\n",
       "  <thead>\n",
       "    <tr style=\"text-align: right;\">\n",
       "      <th></th>\n",
       "      <th>Average Tumor Volume (mm3)</th>\n",
       "      <th>Median Tumor Volume (mm3)</th>\n",
       "      <th>Variance</th>\n",
       "      <th>Standard Deviation</th>\n",
       "      <th>Standard Error</th>\n",
       "    </tr>\n",
       "    <tr>\n",
       "      <th>Drug Regimen</th>\n",
       "      <th></th>\n",
       "      <th></th>\n",
       "      <th></th>\n",
       "      <th></th>\n",
       "      <th></th>\n",
       "    </tr>\n",
       "  </thead>\n",
       "  <tbody>\n",
       "    <tr>\n",
       "      <th>Capomulin</th>\n",
       "      <td>40.68</td>\n",
       "      <td>41.56</td>\n",
       "      <td>24.95</td>\n",
       "      <td>4.99</td>\n",
       "      <td>0.33</td>\n",
       "    </tr>\n",
       "    <tr>\n",
       "      <th>Ceftamin</th>\n",
       "      <td>52.59</td>\n",
       "      <td>51.78</td>\n",
       "      <td>39.29</td>\n",
       "      <td>6.27</td>\n",
       "      <td>0.47</td>\n",
       "    </tr>\n",
       "    <tr>\n",
       "      <th>Infubinol</th>\n",
       "      <td>52.88</td>\n",
       "      <td>51.82</td>\n",
       "      <td>43.13</td>\n",
       "      <td>6.57</td>\n",
       "      <td>0.49</td>\n",
       "    </tr>\n",
       "    <tr>\n",
       "      <th>Ketapril</th>\n",
       "      <td>55.24</td>\n",
       "      <td>53.70</td>\n",
       "      <td>68.55</td>\n",
       "      <td>8.28</td>\n",
       "      <td>0.60</td>\n",
       "    </tr>\n",
       "    <tr>\n",
       "      <th>Naftisol</th>\n",
       "      <td>54.33</td>\n",
       "      <td>52.51</td>\n",
       "      <td>66.17</td>\n",
       "      <td>8.13</td>\n",
       "      <td>0.60</td>\n",
       "    </tr>\n",
       "    <tr>\n",
       "      <th>Placebo</th>\n",
       "      <td>54.03</td>\n",
       "      <td>52.29</td>\n",
       "      <td>61.17</td>\n",
       "      <td>7.82</td>\n",
       "      <td>0.58</td>\n",
       "    </tr>\n",
       "    <tr>\n",
       "      <th>Propriva</th>\n",
       "      <td>52.32</td>\n",
       "      <td>50.85</td>\n",
       "      <td>42.35</td>\n",
       "      <td>6.51</td>\n",
       "      <td>0.51</td>\n",
       "    </tr>\n",
       "    <tr>\n",
       "      <th>Ramicane</th>\n",
       "      <td>40.22</td>\n",
       "      <td>40.67</td>\n",
       "      <td>23.49</td>\n",
       "      <td>4.85</td>\n",
       "      <td>0.32</td>\n",
       "    </tr>\n",
       "    <tr>\n",
       "      <th>Stelasyn</th>\n",
       "      <td>54.23</td>\n",
       "      <td>52.43</td>\n",
       "      <td>59.45</td>\n",
       "      <td>7.71</td>\n",
       "      <td>0.57</td>\n",
       "    </tr>\n",
       "    <tr>\n",
       "      <th>Zoniferol</th>\n",
       "      <td>53.24</td>\n",
       "      <td>51.82</td>\n",
       "      <td>48.53</td>\n",
       "      <td>6.97</td>\n",
       "      <td>0.52</td>\n",
       "    </tr>\n",
       "  </tbody>\n",
       "</table>\n",
       "</div>"
      ],
      "text/plain": [
       "             Average Tumor Volume (mm3) Median Tumor Volume (mm3) Variance  \\\n",
       "Drug Regimen                                                                 \n",
       "Capomulin                         40.68                     41.56    24.95   \n",
       "Ceftamin                          52.59                     51.78    39.29   \n",
       "Infubinol                         52.88                     51.82    43.13   \n",
       "Ketapril                          55.24                     53.70    68.55   \n",
       "Naftisol                          54.33                     52.51    66.17   \n",
       "Placebo                           54.03                     52.29    61.17   \n",
       "Propriva                          52.32                     50.85    42.35   \n",
       "Ramicane                          40.22                     40.67    23.49   \n",
       "Stelasyn                          54.23                     52.43    59.45   \n",
       "Zoniferol                         53.24                     51.82    48.53   \n",
       "\n",
       "             Standard Deviation Standard Error  \n",
       "Drug Regimen                                    \n",
       "Capomulin                  4.99           0.33  \n",
       "Ceftamin                   6.27           0.47  \n",
       "Infubinol                  6.57           0.49  \n",
       "Ketapril                   8.28           0.60  \n",
       "Naftisol                   8.13           0.60  \n",
       "Placebo                    7.82           0.58  \n",
       "Propriva                   6.51           0.51  \n",
       "Ramicane                   4.85           0.32  \n",
       "Stelasyn                   7.71           0.57  \n",
       "Zoniferol                  6.97           0.52  "
      ]
     },
     "execution_count": 6,
     "metadata": {},
     "output_type": "execute_result"
    }
   ],
   "source": [
    "# calculate mean, median, variance, standard deviation, and SEM of the tumor volume\n",
    "tumor_mean = drug_results.groupby(\"Drug Regimen\").mean()[\"Tumor Volume (mm3)\"]\n",
    "tumor_median = drug_results.groupby(\"Drug Regimen\").median()[\"Tumor Volume (mm3)\"]\n",
    "tumor_var = drug_results.groupby(\"Drug Regimen\").var()[\"Tumor Volume (mm3)\"]\n",
    "tumor_sem = drug_results.groupby(\"Drug Regimen\").sem()[\"Tumor Volume (mm3)\"]\n",
    "tumor_std = drug_results.groupby(\"Drug Regimen\").std()[\"Tumor Volume (mm3)\"]\n",
    "\n",
    "# Generate a summary statistics table of mean, median, variance, standard deviation, and SEM of the tumor volume for each regimen\n",
    "summary = pd.DataFrame({\"Average Tumor Volume (mm3)\": tumor_mean,\n",
    "                       \"Median Tumor Volume (mm3)\": tumor_median,\n",
    "                       \"Variance\": tumor_var,\n",
    "                       \"Standard Deviation\": tumor_std,\n",
    "                       \"Standard Error\": tumor_sem})\n",
    "# formatting\n",
    "summary[\"Average Tumor Volume (mm3)\"] = summary[\"Average Tumor Volume (mm3)\"].map(\"{:.2f}\".format)\n",
    "summary[\"Median Tumor Volume (mm3)\"] = summary[\"Median Tumor Volume (mm3)\"].map(\"{:.2f}\".format)\n",
    "summary[\"Variance\"] = summary[\"Variance\"].map(\"{:.2f}\".format)\n",
    "summary[\"Standard Deviation\"] = summary[\"Standard Deviation\"].map(\"{:.2f}\".format)\n",
    "summary[\"Standard Error\"] = summary[\"Standard Error\"].map(\"{:.2f}\".format)\n",
    "\n",
    "# print dataframe\n",
    "summary"
   ]
  },
  {
   "cell_type": "markdown",
   "metadata": {},
   "source": [
    "## Bar plots"
   ]
  },
  {
   "cell_type": "code",
   "execution_count": 7,
   "metadata": {},
   "outputs": [],
   "source": [
    "# data_counts_pd = drug_results(\"Drug Regimen\").value_counts()\n",
    "# TypeError: 'DataFrame' object is not callable\n",
    "data_counts = drug_results.groupby(\"Drug Regimen\").count()[\"Timepoint\"]"
   ]
  },
  {
   "cell_type": "code",
   "execution_count": 8,
   "metadata": {},
   "outputs": [
    {
     "data": {
      "text/plain": [
       "Text(0.5, 1.0, 'Data Points Count for Each Treatment Regimen')"
      ]
     },
     "execution_count": 8,
     "metadata": {},
     "output_type": "execute_result"
    },
    {
     "data": {
      "image/png": "[encoded data removed]",
      "text/plain": [
       "<Figure size 432x288 with 1 Axes>"
      ]
     },
     "metadata": {
      "needs_background": "light"
     },
     "output_type": "display_data"
    }
   ],
   "source": [
    "# Generate a bar plot showing number of data points for each treatment regimen using pandas\n",
    "\n",
    "# count data points\n",
    "data_counts = drug_results.groupby(\"Drug Regimen\").count()[\"Timepoint\"]\n",
    "\n",
    "# create bar plot using pandas\n",
    "pandas_bar = data_counts.plot(kind=\"bar\")\n",
    "#data_counts.set_xlabel(\"Drug Regimen\")\n",
    "pandas_bar.set_ylabel(\"Data Points for Treatment\")\n",
    "pandas_bar.set_title(\"Data Points Count for Each Treatment Regimen\")"
   ]
  },
  {
   "cell_type": "code",
   "execution_count": 9,
   "metadata": {},
   "outputs": [
    {
     "data": {
      "image/png": "[encoded data removed]",
      "text/plain": [
       "<Figure size 432x288 with 1 Axes>"
      ]
     },
     "metadata": {
      "needs_background": "light"
     },
     "output_type": "display_data"
    }
   ],
   "source": [
    "# Generate a bar plot showing number of data points for each treatment regimen using pyplot\n",
    "# count data points\n",
    "data_counts = pd.DataFrame(drug_results.groupby(\"Drug Regimen\").count()[\"Timepoint\"])\n",
    "data_counts\n",
    "#drugs = drug_results(\"Drug Regimen\").count()\n",
    "plt.bar(data_counts.index, data_counts[\"Timepoint\"], color=\"b\", align=\"center\")\n",
    "plt.xlabel(\"Drug Regimen\")\n",
    "plt.ylabel(\"Data Points for Treatment\")\n",
    "plt.title(\"Data Points Count for Each Treatment Regimen\")\n",
    "plt.xticks(rotation=90)\n",
    "\n",
    "# save figure\n",
    "plt.savefig(\"images/drug_regimen_counts_MLB.png\")"
   ]
  },
  {
   "cell_type": "markdown",
   "metadata": {},
   "source": [
    "## Pie plots"
   ]
  },
  {
   "cell_type": "code",
   "execution_count": 10,
   "metadata": {},
   "outputs": [],
   "source": [
    "# focus data on female and male mice\n",
    "gender = mouse_study_df.loc[:,[\"Mouse ID\", \"Sex\"]].drop_duplicates(\"Mouse ID\")\n",
    "gender_counts = gender[\"Sex\"].value_counts()"
   ]
  },
  {
   "cell_type": "code",
   "execution_count": 11,
   "metadata": {},
   "outputs": [
    {
     "data": {
      "text/plain": [
       "Text(0.5, 1.0, 'Gender Distribution of Tested Mice')"
      ]
     },
     "execution_count": 11,
     "metadata": {},
     "output_type": "execute_result"
    },
    {
     "data": {
      "image/png": "[encoded data removed]",
      "text/plain": [
       "<Figure size 432x288 with 1 Axes>"
      ]
     },
     "metadata": {},
     "output_type": "display_data"
    }
   ],
   "source": [
    "# Generate a pie plot showing the distribution of female versus male mice using pandas\n",
    "gender_pd = gender_counts.plot(kind=\"pie\", autopct=\"%.2f%%\", label=\"\")\n",
    "gender_pd.set_title(\"Gender Distribution of Tested Mice\")"
   ]
  },
  {
   "cell_type": "code",
   "execution_count": 12,
   "metadata": {},
   "outputs": [
    {
     "data": {
      "image/png": "[encoded data removed]",
      "text/plain": [
       "<Figure size 432x288 with 1 Axes>"
      ]
     },
     "metadata": {},
     "output_type": "display_data"
    }
   ],
   "source": [
    "# Generate a pie plot showing the distribution of female versus male mice using pyplot\n",
    "gender_counts = gender[\"Sex\"].value_counts()\n",
    "plt.pie(gender_counts, labels=gender_counts.index, autopct=\"%.2f%%\")\n",
    "plt.title(\"Gender Distribution of Tested Mice\")\n",
    "\n",
    "# save figure\n",
    "plt.savefig(\"images/gender_dist_MLB.png\")"
   ]
  },
  {
   "cell_type": "markdown",
   "metadata": {},
   "source": [
    "## Quartiles, outliers and boxplots"
   ]
  },
  {
   "cell_type": "code",
   "execution_count": 13,
   "metadata": {
    "scrolled": true
   },
   "outputs": [
    {
     "data": {
      "text/plain": [
       "Mouse ID  Drug Regimen\n",
       "a203      Infubinol       67.973419\n",
       "a251      Infubinol       65.525743\n",
       "a275      Ceftamin        62.999356\n",
       "a411      Ramicane        38.407618\n",
       "a444      Ramicane        43.047543\n",
       "Name: Tumor Volume (mm3), dtype: float64"
      ]
     },
     "execution_count": 13,
     "metadata": {},
     "output_type": "execute_result"
    }
   ],
   "source": [
    "# Calculate the final tumor volume of each mouse across four of the most promising treatment regimens.\n",
    "best_performers = mouse_study_df.loc[mouse_study_df[\"Drug Regimen\"].isin([\"Capomulin\",\"Ramicane\",\"Infubinol\",\"Ceftamin\"])]\n",
    "final_best = best_performers.groupby([\"Mouse ID\",\"Drug Regimen\"])[\"Tumor Volume (mm3)\"].last()\n",
    "final_best.head()"
   ]
  },
  {
   "cell_type": "code",
   "execution_count": 14,
   "metadata": {},
   "outputs": [
    {
     "name": "stdout",
     "output_type": "stream",
     "text": [
      "Values below 20.70456164999999 could be outliers for Capomulin.\n",
      "Values above 51.83201549 could be outliers for Capomulin.\n",
      "\n",
      "Values below 17.912664470000003 could be outliers for Ramicane.\n",
      "Values above 54.30681135 could be outliers for Ramicane.\n",
      "\n",
      "Values below 36.83290494999999 could be outliers for Infubinol.\n",
      "Values above 82.74144559000001 could be outliers for Infubinol.\n",
      "\n",
      "Values below 25.355449580000002 could be outliers for Ceftamin.\n",
      "Values above 87.66645829999999 could be outliers for Ceftamin.\n"
     ]
    }
   ],
   "source": [
    "# Calculate the IQR and quantitatively determine if there are any potential outliers.\n",
    "# final for capomulin\n",
    "capomulin = mouse_study_df.loc[mouse_study_df[\"Drug Regimen\"].isin([\"Capomulin\"])]\n",
    "final_capomulin = pd.DataFrame(capomulin.groupby([\"Mouse ID\",\"Drug Regimen\"])[\"Tumor Volume (mm3)\"].last())\n",
    "# iqr for capomulin\n",
    "cap_quart = final_capomulin[\"Tumor Volume (mm3)\"].quantile([.25,.5,.75])\n",
    "cap_lowerq = cap_quart[.25]\n",
    "cap_upperq = cap_quart[.75]\n",
    "cap_iqr = cap_upperq-cap_lowerq\n",
    "# find potential outliers for Capomulin\n",
    "cap_low_bound = cap_lowerq-(1.5*cap_iqr)\n",
    "cap_upper_bound = cap_upperq+(1.5*cap_iqr)\n",
    "print(f\"Values below {cap_low_bound} could be outliers for Capomulin.\")\n",
    "print(f\"Values above {cap_upper_bound} could be outliers for Capomulin.\\n\")\n",
    "\n",
    "# final for Ramicane\n",
    "ramicane = mouse_study_df.loc[mouse_study_df[\"Drug Regimen\"].isin([\"Ramicane\"])]\n",
    "final_ramicane = pd.DataFrame(ramicane.groupby([\"Mouse ID\",\"Drug Regimen\"])[\"Tumor Volume (mm3)\"].last())\n",
    "# iqr for Ramicane\n",
    "ram_quart = final_ramicane[\"Tumor Volume (mm3)\"].quantile([.25,.5,.75])\n",
    "ram_lowerq = ram_quart[.25]\n",
    "ram_upperq = ram_quart[.75]\n",
    "ram_iqr = ram_upperq-ram_lowerq\n",
    "# find potential outliers for Ramicane\n",
    "ram_low_bound = ram_lowerq-(1.5*ram_iqr)\n",
    "ram_upper_bound = ram_upperq+(1.5*ram_iqr)\n",
    "print(f\"Values below {ram_low_bound} could be outliers for Ramicane.\")\n",
    "print(f\"Values above {ram_upper_bound} could be outliers for Ramicane.\\n\")\n",
    "\n",
    "# final for Infubinol\n",
    "infubinol = mouse_study_df.loc[mouse_study_df[\"Drug Regimen\"].isin([\"Infubinol\"])]\n",
    "final_infubinol = pd.DataFrame(infubinol.groupby([\"Mouse ID\",\"Drug Regimen\"])[\"Tumor Volume (mm3)\"].last())\n",
    "# iqr for Infubinol\n",
    "inf_quart = final_infubinol[\"Tumor Volume (mm3)\"].quantile([.25,.5,.75])\n",
    "inf_lowerq = inf_quart[.25]\n",
    "inf_upperq = inf_quart[.75]\n",
    "inf_iqr = inf_upperq-inf_lowerq\n",
    "# find potential outliers for Infubinol\n",
    "inf_low_bound = inf_lowerq-(1.5*inf_iqr)\n",
    "inf_upper_bound = inf_upperq+(1.5*inf_iqr)\n",
    "print(f\"Values below {inf_low_bound} could be outliers for Infubinol.\")\n",
    "print(f\"Values above {inf_upper_bound} could be outliers for Infubinol.\\n\")\n",
    "\n",
    "# final for Ceftamin\n",
    "ceftamin = mouse_study_df.loc[mouse_study_df[\"Drug Regimen\"].isin([\"Ceftamin\"])]\n",
    "final_ceftamin = pd.DataFrame(ceftamin.groupby([\"Mouse ID\",\"Drug Regimen\"])[\"Tumor Volume (mm3)\"].last())\n",
    "# iqr for Ceftamin\n",
    "cef_quart = final_ceftamin[\"Tumor Volume (mm3)\"].quantile([.25,.5,.75])\n",
    "cef_lowerq = cef_quart[.25]\n",
    "cef_upperq = cef_quart[.75]\n",
    "cef_iqr = cef_upperq-cef_lowerq\n",
    "# find potential outliers for Ramicane\n",
    "cef_low_bound = cef_lowerq-(1.5*cef_iqr)\n",
    "cef_upper_bound = cef_upperq+(1.5*cef_iqr)\n",
    "print(f\"Values below {cef_low_bound} could be outliers for Ceftamin.\")\n",
    "print(f\"Values above {cef_upper_bound} could be outliers for Ceftamin.\")\n"
   ]
  },
  {
   "cell_type": "code",
   "execution_count": 15,
   "metadata": {},
   "outputs": [
    {
     "data": {
      "image/png": "[encoded data removed]",
      "text/plain": [
       "<Figure size 432x288 with 1 Axes>"
      ]
     },
     "metadata": {
      "needs_background": "light"
     },
     "output_type": "display_data"
    }
   ],
   "source": [
    "# was receiving ValueError: cannot copy sequence with size 25 to array axis with dimension 1 when trying to do plt.boxplot with all four individual drug regimen calculations.\n",
    "# found this solution on stackoverflow: https://stackoverflow.com/questions/32948867/valueerror-cannot-copy-sequence-with-size-5-to-array-axis-with-dimension-2\n",
    "result = np.empty(4, dtype=object)\n",
    "result[:] = [final_capomulin, final_ramicane, final_infubinol, final_ceftamin]\n",
    "\n",
    "flierprops = dict(marker='o', markerfacecolor='b', markersize=10)\n",
    "# create a boxplot\n",
    "plt.boxplot(result,labels=['Capomulin','Ramicane','Infubinol','Ceftamin'],flierprops=flierprops)\n",
    "plt.ylabel(\"Final Tumor Volume (mm3)\")\n",
    "plt.xlabel(\"Drug Regimen\")\n",
    "plt.title(\"Final Tumor Volumes (mm3) per Top Performing Drug Regimens\")\n",
    "\n",
    "# save figure\n",
    "plt.savefig(\"images/top_drug_tumvol_MLB.png\")"
   ]
  },
  {
   "cell_type": "markdown",
   "metadata": {},
   "source": [
    "## Line and scatter plots"
   ]
  },
  {
   "cell_type": "code",
   "execution_count": 16,
   "metadata": {},
   "outputs": [],
   "source": [
    "# find a single mouse to study\n",
    "capomulin_stats = mouse_study_df.loc[mouse_study_df[\"Drug Regimen\"].isin([\"Capomulin\"])]\n",
    "# selecting mouse s185\n",
    "cap_s185 = capomulin_stats.loc[capomulin_stats[\"Mouse ID\"].isin([\"s185\"])]"
   ]
  },
  {
   "cell_type": "code",
   "execution_count": 17,
   "metadata": {},
   "outputs": [
    {
     "data": {
      "image/png": "[encoded data removed]",
      "text/plain": [
       "<Figure size 432x288 with 1 Axes>"
      ]
     },
     "metadata": {
      "needs_background": "light"
     },
     "output_type": "display_data"
    }
   ],
   "source": [
    "# Generate a line plot of time point versus tumor volume for a mouse treated with Capomulin\n",
    "plt.plot(cap_s185[\"Timepoint\"],cap_s185[\"Tumor Volume (mm3)\"])\n",
    "plt.xlabel(\"Time (Days)\")\n",
    "plt.ylabel(\"Tumor Volume (mm3)\")\n",
    "plt.title(\"Tumor Volume (mm3) of Mouse s185 Over Time\")\n",
    "\n",
    "# save figure\n",
    "plt.savefig(\"images/capomulin_tumvol_results_MLB.png\")"
   ]
  },
  {
   "cell_type": "code",
   "execution_count": 18,
   "metadata": {},
   "outputs": [],
   "source": [
    "# calculate mean data for each mouse tested with Capomulin\n",
    "cap_mean = capomulin_stats.groupby(\"Mouse ID\").mean()"
   ]
  },
  {
   "cell_type": "code",
   "execution_count": 19,
   "metadata": {},
   "outputs": [
    {
     "data": {
      "text/plain": [
       "Text(0.5, 1.0, 'Average Tumor Volume (mm3) versus Mouse Weight (g)')"
      ]
     },
     "execution_count": 19,
     "metadata": {},
     "output_type": "execute_result"
    },
    {
     "data": {
      "image/png": "[encoded data removed]",
      "text/plain": [
       "<Figure size 432x288 with 1 Axes>"
      ]
     },
     "metadata": {
      "needs_background": "light"
     },
     "output_type": "display_data"
    }
   ],
   "source": [
    "# Generate a scatter plot of mouse weight versus average tumor volume for the Capomulin regimen\n",
    "weight_tumor_plot = plt.scatter(cap_mean[\"Weight (g)\"], cap_mean[\"Tumor Volume (mm3)\"])\n",
    "plt.xlabel(\"Weight (g)\")\n",
    "plt.ylabel(\"Average Tumor Volume (mm3)\")\n",
    "plt.title(\"Average Tumor Volume (mm3) versus Mouse Weight (g)\")"
   ]
  },
  {
   "cell_type": "code",
   "execution_count": 20,
   "metadata": {},
   "outputs": [
    {
     "name": "stdout",
     "output_type": "stream",
     "text": [
      "The correlation between the average tumor weight (mm3) and the mouse's weight is 0.84\n"
     ]
    }
   ],
   "source": [
    "# Calculate the correlation coefficient for mouse weight and average tumor volume for the Capomulin regimen\n",
    "correlation = st.pearsonr(cap_mean[\"Weight (g)\"], cap_mean[\"Tumor Volume (mm3)\"])\n",
    "print(f\"The correlation between the average tumor weight (mm3) and the mouse's weight is {round(correlation[0],2)}\")"
   ]
  },
  {
   "cell_type": "code",
   "execution_count": 21,
   "metadata": {},
   "outputs": [
    {
     "name": "stdout",
     "output_type": "stream",
     "text": [
      "The r-squared is 0.7088568047708717.\n"
     ]
    },
    {
     "data": {
      "image/png": "[encoded data removed]",
      "text/plain": [
       "<Figure size 432x288 with 1 Axes>"
      ]
     },
     "metadata": {
      "needs_background": "light"
     },
     "output_type": "display_data"
    }
   ],
   "source": [
    "# calculate linear regression modelfor mouse weight and average tumor volume for the Capomulin regimen\n",
    "# define x and y values to call later\n",
    "x_values = cap_mean[\"Weight (g)\"]\n",
    "y_values = cap_mean[\"Tumor Volume (mm3)\"]\n",
    "\n",
    "# define values using the linear regression equation\n",
    "(slope, intercept, rvalue, pvalue, stderr) = linregress(x_values, y_values)\n",
    "\n",
    "# calculate regress values\n",
    "regress_values = x_values * slope + intercept\n",
    "\n",
    "# compose the equation of the best fit line\n",
    "line_eq = \"y=\" + str(round(slope,2)) + \"x+\" + str(round(intercept,2))\n",
    "\n",
    "# plot the data for the average tumor volume and weight and apply the best fit line\n",
    "plt.scatter(x_values,y_values)\n",
    "plt.plot(x_values,regress_values,\"r-\")\n",
    "\n",
    "# add the best fit line\n",
    "plt.annotate(line_eq,(22,36), fontsize=10, color=\"red\")\n",
    "\n",
    "# add axes labels and title\n",
    "plt.xlabel(\"Weight (g)\")\n",
    "plt.ylabel(\"Average Tumor Volume (mm3)\")\n",
    "plt.title(\"Average Tumor Volume (mm3) versus Mouse Weight (g)\")\n",
    "\n",
    "# calculate the r-squared value and print\n",
    "r_squared = rvalue**2\n",
    "print(f\"The r-squared is {r_squared}.\")\n",
    "\n",
    "# save plot\n",
    "plt.savefig(\"images/avg_tumor_vol_MPL.png\")"
   ]
  },
  {
   "cell_type": "code",
   "execution_count": null,
   "metadata": {},
   "outputs": [],
   "source": []
  }
 ],
 "metadata": {
  "anaconda-cloud": {},
  "kernelspec": {
   "display_name": "Python 3",
   "language": "python",
   "name": "python3"
  },
  "language_info": {
   "codemirror_mode": {
    "name": "ipython",
    "version": 3
   },
   "file_extension": ".py",
   "mimetype": "text/x-python",
   "name": "python",
   "nbconvert_exporter": "python",
   "pygments_lexer": "ipython3",
   "version": "3.6.10"
  }
 },
 "nbformat": 4,
 "nbformat_minor": 2
}
